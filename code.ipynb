{
 "cells": [
  {
   "cell_type": "code",
   "execution_count": 22,
   "id": "cbe864c2",
   "metadata": {},
   "outputs": [],
   "source": [
    "import numpy as np\n",
    "import pandas as pd\n",
    "\n",
    "import matplotlib.pyplot as plt\n",
    "import seaborn as sns\n",
    "\n",
    "%matplotlib inline"
   ]
  },
  {
   "cell_type": "code",
   "execution_count": 23,
   "id": "bbefe8e7",
   "metadata": {},
   "outputs": [],
   "source": [
    "df = pd.read_csv('Data.csv')"
   ]
  },
  {
   "cell_type": "code",
   "execution_count": 24,
   "id": "e33a15ed",
   "metadata": {},
   "outputs": [
    {
     "data": {
      "text/html": [
       "<div>\n",
       "<style scoped>\n",
       "    .dataframe tbody tr th:only-of-type {\n",
       "        vertical-align: middle;\n",
       "    }\n",
       "\n",
       "    .dataframe tbody tr th {\n",
       "        vertical-align: top;\n",
       "    }\n",
       "\n",
       "    .dataframe thead th {\n",
       "        text-align: right;\n",
       "    }\n",
       "</style>\n",
       "<table border=\"1\" class=\"dataframe\">\n",
       "  <thead>\n",
       "    <tr style=\"text-align: right;\">\n",
       "      <th></th>\n",
       "      <th>Player</th>\n",
       "      <th>Span</th>\n",
       "      <th>Mat</th>\n",
       "      <th>Inn</th>\n",
       "      <th>NO</th>\n",
       "      <th>Runs</th>\n",
       "      <th>HS</th>\n",
       "      <th>Avg</th>\n",
       "      <th>100</th>\n",
       "      <th>50</th>\n",
       "      <th>0</th>\n",
       "      <th>Player Profile</th>\n",
       "    </tr>\n",
       "  </thead>\n",
       "  <tbody>\n",
       "    <tr>\n",
       "      <th>0</th>\n",
       "      <td>SR Tendulkar�(INDIA)</td>\n",
       "      <td>1989-2013</td>\n",
       "      <td>200</td>\n",
       "      <td>329</td>\n",
       "      <td>33</td>\n",
       "      <td>15921</td>\n",
       "      <td>248*</td>\n",
       "      <td>53.78</td>\n",
       "      <td>51</td>\n",
       "      <td>68</td>\n",
       "      <td>14</td>\n",
       "      <td>http://stats.espncricinfo.com/ci/content/playe...</td>\n",
       "    </tr>\n",
       "    <tr>\n",
       "      <th>1</th>\n",
       "      <td>RT Ponting�(AUS)</td>\n",
       "      <td>1995-2012</td>\n",
       "      <td>168</td>\n",
       "      <td>287</td>\n",
       "      <td>29</td>\n",
       "      <td>13378</td>\n",
       "      <td>257</td>\n",
       "      <td>51.85</td>\n",
       "      <td>41</td>\n",
       "      <td>62</td>\n",
       "      <td>17</td>\n",
       "      <td>http://stats.espncricinfo.com/ci/content/playe...</td>\n",
       "    </tr>\n",
       "    <tr>\n",
       "      <th>2</th>\n",
       "      <td>JH Kallis�(ICC/SA)</td>\n",
       "      <td>1995-2013</td>\n",
       "      <td>166</td>\n",
       "      <td>280</td>\n",
       "      <td>40</td>\n",
       "      <td>13289</td>\n",
       "      <td>224</td>\n",
       "      <td>55.37</td>\n",
       "      <td>45</td>\n",
       "      <td>58</td>\n",
       "      <td>16</td>\n",
       "      <td>http://stats.espncricinfo.com/ci/content/playe...</td>\n",
       "    </tr>\n",
       "    <tr>\n",
       "      <th>3</th>\n",
       "      <td>R Dravid�(ICC/INDIA)</td>\n",
       "      <td>1996-2012</td>\n",
       "      <td>164</td>\n",
       "      <td>286</td>\n",
       "      <td>32</td>\n",
       "      <td>13288</td>\n",
       "      <td>270</td>\n",
       "      <td>52.31</td>\n",
       "      <td>36</td>\n",
       "      <td>63</td>\n",
       "      <td>8</td>\n",
       "      <td>http://stats.espncricinfo.com/ci/content/playe...</td>\n",
       "    </tr>\n",
       "    <tr>\n",
       "      <th>4</th>\n",
       "      <td>AN Cook�(ENG)</td>\n",
       "      <td>2006-2018</td>\n",
       "      <td>161</td>\n",
       "      <td>291</td>\n",
       "      <td>16</td>\n",
       "      <td>12472</td>\n",
       "      <td>294</td>\n",
       "      <td>45.35</td>\n",
       "      <td>33</td>\n",
       "      <td>57</td>\n",
       "      <td>9</td>\n",
       "      <td>http://stats.espncricinfo.com/ci/content/playe...</td>\n",
       "    </tr>\n",
       "  </tbody>\n",
       "</table>\n",
       "</div>"
      ],
      "text/plain": [
       "                 Player       Span  Mat  Inn  NO   Runs    HS    Avg 100  50  \\\n",
       "0  SR Tendulkar�(INDIA)  1989-2013  200  329  33  15921  248*  53.78  51  68   \n",
       "1      RT Ponting�(AUS)  1995-2012  168  287  29  13378   257  51.85  41  62   \n",
       "2    JH Kallis�(ICC/SA)  1995-2013  166  280  40  13289   224  55.37  45  58   \n",
       "3  R Dravid�(ICC/INDIA)  1996-2012  164  286  32  13288   270  52.31  36  63   \n",
       "4         AN Cook�(ENG)  2006-2018  161  291  16  12472   294  45.35  33  57   \n",
       "\n",
       "    0                                     Player Profile  \n",
       "0  14  http://stats.espncricinfo.com/ci/content/playe...  \n",
       "1  17  http://stats.espncricinfo.com/ci/content/playe...  \n",
       "2  16  http://stats.espncricinfo.com/ci/content/playe...  \n",
       "3   8  http://stats.espncricinfo.com/ci/content/playe...  \n",
       "4   9  http://stats.espncricinfo.com/ci/content/playe...  "
      ]
     },
     "execution_count": 24,
     "metadata": {},
     "output_type": "execute_result"
    }
   ],
   "source": [
    "df.head()"
   ]
  },
  {
   "cell_type": "code",
   "execution_count": null,
   "id": "ddbf3741",
   "metadata": {},
   "outputs": [],
   "source": []
  },
  {
   "cell_type": "code",
   "execution_count": 25,
   "id": "40c480c6",
   "metadata": {},
   "outputs": [
    {
     "name": "stdout",
     "output_type": "stream",
     "text": [
      "<class 'pandas.core.frame.DataFrame'>\n",
      "Int64Index: 535 entries, 0 to 1731\n",
      "Data columns (total 12 columns):\n",
      " #   Column          Non-Null Count  Dtype  \n",
      "---  ------          --------------  -----  \n",
      " 0   Player          535 non-null    object \n",
      " 1   Span            535 non-null    object \n",
      " 2   Mat             535 non-null    int64  \n",
      " 3   Inn             535 non-null    object \n",
      " 4   NO              535 non-null    object \n",
      " 5   Runs            535 non-null    object \n",
      " 6   HS              535 non-null    object \n",
      " 7   Avg             535 non-null    float64\n",
      " 8   100             535 non-null    object \n",
      " 9   50              535 non-null    object \n",
      " 10  0               535 non-null    object \n",
      " 11  Player Profile  535 non-null    object \n",
      "dtypes: float64(1), int64(1), object(10)\n",
      "memory usage: 54.3+ KB\n"
     ]
    },
    {
     "name": "stderr",
     "output_type": "stream",
     "text": [
      "<ipython-input-25-5b5b66445f94>:5: SettingWithCopyWarning: \n",
      "A value is trying to be set on a copy of a slice from a DataFrame.\n",
      "Try using .loc[row_indexer,col_indexer] = value instead\n",
      "\n",
      "See the caveats in the documentation: https://pandas.pydata.org/pandas-docs/stable/user_guide/indexing.html#returning-a-view-versus-a-copy\n",
      "  df1['Avg']=df1['Avg'].apply(lambda x: float(x))\n"
     ]
    }
   ],
   "source": [
    "#New dataframe containing players with min 30 matches played\n",
    "df1 = df[df['Mat'] > 30] \n",
    "\n",
    "#Converting avg from object to floats\n",
    "df1['Avg']=df1['Avg'].apply(lambda x: float(x))\n",
    "\n",
    "df1.info()\n"
   ]
  },
  {
   "cell_type": "code",
   "execution_count": 26,
   "id": "a4eb1c1a",
   "metadata": {},
   "outputs": [
    {
     "data": {
      "text/plain": [
       "99.94"
      ]
     },
     "execution_count": 26,
     "metadata": {},
     "output_type": "execute_result"
    }
   ],
   "source": [
    "df1['Avg'].max() #Checking if Bradman's is the highest value"
   ]
  },
  {
   "cell_type": "code",
   "execution_count": 27,
   "id": "cc9e0995",
   "metadata": {},
   "outputs": [
    {
     "data": {
      "text/html": [
       "<div>\n",
       "<style scoped>\n",
       "    .dataframe tbody tr th:only-of-type {\n",
       "        vertical-align: middle;\n",
       "    }\n",
       "\n",
       "    .dataframe tbody tr th {\n",
       "        vertical-align: top;\n",
       "    }\n",
       "\n",
       "    .dataframe thead th {\n",
       "        text-align: right;\n",
       "    }\n",
       "</style>\n",
       "<table border=\"1\" class=\"dataframe\">\n",
       "  <thead>\n",
       "    <tr style=\"text-align: right;\">\n",
       "      <th></th>\n",
       "      <th>Avg</th>\n",
       "    </tr>\n",
       "  </thead>\n",
       "  <tbody>\n",
       "    <tr>\n",
       "      <th>0</th>\n",
       "      <td>53.78</td>\n",
       "    </tr>\n",
       "    <tr>\n",
       "      <th>1</th>\n",
       "      <td>51.85</td>\n",
       "    </tr>\n",
       "    <tr>\n",
       "      <th>2</th>\n",
       "      <td>55.37</td>\n",
       "    </tr>\n",
       "    <tr>\n",
       "      <th>3</th>\n",
       "      <td>52.31</td>\n",
       "    </tr>\n",
       "    <tr>\n",
       "      <th>4</th>\n",
       "      <td>45.35</td>\n",
       "    </tr>\n",
       "  </tbody>\n",
       "</table>\n",
       "</div>"
      ],
      "text/plain": [
       "     Avg\n",
       "0  53.78\n",
       "1  51.85\n",
       "2  55.37\n",
       "3  52.31\n",
       "4  45.35"
      ]
     },
     "execution_count": 27,
     "metadata": {},
     "output_type": "execute_result"
    }
   ],
   "source": [
    "#Graph (Scatter Plot) of all players' averages\n",
    "df2 = df1.loc[ : , df1.columns == 'Avg'] #new dataframe with all cols except average removed\n",
    "df2.head()"
   ]
  },
  {
   "cell_type": "code",
   "execution_count": 28,
   "id": "ffa02e2a",
   "metadata": {},
   "outputs": [
    {
     "name": "stderr",
     "output_type": "stream",
     "text": [
      "<ipython-input-28-0468e4eea364>:1: SettingWithCopyWarning: \n",
      "A value is trying to be set on a copy of a slice from a DataFrame.\n",
      "Try using .loc[row_indexer,col_indexer] = value instead\n",
      "\n",
      "See the caveats in the documentation: https://pandas.pydata.org/pandas-docs/stable/user_guide/indexing.html#returning-a-view-versus-a-copy\n",
      "  df2['S No'] = df2.index\n"
     ]
    },
    {
     "data": {
      "text/html": [
       "<div>\n",
       "<style scoped>\n",
       "    .dataframe tbody tr th:only-of-type {\n",
       "        vertical-align: middle;\n",
       "    }\n",
       "\n",
       "    .dataframe tbody tr th {\n",
       "        vertical-align: top;\n",
       "    }\n",
       "\n",
       "    .dataframe thead th {\n",
       "        text-align: right;\n",
       "    }\n",
       "</style>\n",
       "<table border=\"1\" class=\"dataframe\">\n",
       "  <thead>\n",
       "    <tr style=\"text-align: right;\">\n",
       "      <th></th>\n",
       "      <th>Avg</th>\n",
       "      <th>S No</th>\n",
       "    </tr>\n",
       "  </thead>\n",
       "  <tbody>\n",
       "    <tr>\n",
       "      <th>0</th>\n",
       "      <td>53.78</td>\n",
       "      <td>0</td>\n",
       "    </tr>\n",
       "    <tr>\n",
       "      <th>1</th>\n",
       "      <td>51.85</td>\n",
       "      <td>1</td>\n",
       "    </tr>\n",
       "    <tr>\n",
       "      <th>2</th>\n",
       "      <td>55.37</td>\n",
       "      <td>2</td>\n",
       "    </tr>\n",
       "    <tr>\n",
       "      <th>3</th>\n",
       "      <td>52.31</td>\n",
       "      <td>3</td>\n",
       "    </tr>\n",
       "    <tr>\n",
       "      <th>4</th>\n",
       "      <td>45.35</td>\n",
       "      <td>4</td>\n",
       "    </tr>\n",
       "  </tbody>\n",
       "</table>\n",
       "</div>"
      ],
      "text/plain": [
       "     Avg  S No\n",
       "0  53.78     0\n",
       "1  51.85     1\n",
       "2  55.37     2\n",
       "3  52.31     3\n",
       "4  45.35     4"
      ]
     },
     "execution_count": 28,
     "metadata": {},
     "output_type": "execute_result"
    }
   ],
   "source": [
    "df2['S No'] = df2.index\n",
    "df2.head()"
   ]
  },
  {
   "cell_type": "code",
   "execution_count": 29,
   "id": "bacbb94e",
   "metadata": {},
   "outputs": [
    {
     "data": {
      "text/plain": [
       "<AxesSubplot:xlabel='S No', ylabel='Avg'>"
      ]
     },
     "execution_count": 29,
     "metadata": {},
     "output_type": "execute_result"
    },
    {
     "data": {
      "image/png": "[encoded data removed]",
      "text/plain": [
       "<Figure size 1440x720 with 1 Axes>"
      ]
     },
     "metadata": {},
     "output_type": "display_data"
    }
   ],
   "source": [
    "#Plotting scatter of just averages\n",
    "sns.set_style(\"whitegrid\")\n",
    "plt.figure(figsize=(20,10))\n",
    "sns.scatterplot(x='S No', y='Avg', data=df2)"
   ]
  },
  {
   "cell_type": "code",
   "execution_count": 30,
   "id": "0e607f7e",
   "metadata": {},
   "outputs": [
    {
     "data": {
      "text/html": [
       "<div>\n",
       "<style scoped>\n",
       "    .dataframe tbody tr th:only-of-type {\n",
       "        vertical-align: middle;\n",
       "    }\n",
       "\n",
       "    .dataframe tbody tr th {\n",
       "        vertical-align: top;\n",
       "    }\n",
       "\n",
       "    .dataframe thead th {\n",
       "        text-align: right;\n",
       "    }\n",
       "</style>\n",
       "<table border=\"1\" class=\"dataframe\">\n",
       "  <thead>\n",
       "    <tr style=\"text-align: right;\">\n",
       "      <th></th>\n",
       "      <th>Player</th>\n",
       "      <th>Avg</th>\n",
       "    </tr>\n",
       "  </thead>\n",
       "  <tbody>\n",
       "    <tr>\n",
       "      <th>52</th>\n",
       "      <td>DG Bradman�(AUS)</td>\n",
       "      <td>99.94</td>\n",
       "    </tr>\n",
       "    <tr>\n",
       "      <th>47</th>\n",
       "      <td>SPD Smith�(AUS)</td>\n",
       "      <td>62.84</td>\n",
       "    </tr>\n",
       "    <tr>\n",
       "      <th>103</th>\n",
       "      <td>H Sutcliffe�(ENG)</td>\n",
       "      <td>60.73</td>\n",
       "    </tr>\n",
       "    <tr>\n",
       "      <th>56</th>\n",
       "      <td>KF Barrington�(ENG)</td>\n",
       "      <td>58.67</td>\n",
       "    </tr>\n",
       "    <tr>\n",
       "      <th>110</th>\n",
       "      <td>ED Weekes�(WI)</td>\n",
       "      <td>58.61</td>\n",
       "    </tr>\n",
       "    <tr>\n",
       "      <th>42</th>\n",
       "      <td>WR Hammond�(ENG)</td>\n",
       "      <td>58.45</td>\n",
       "    </tr>\n",
       "    <tr>\n",
       "      <th>28</th>\n",
       "      <td>GS Sobers�(WI)</td>\n",
       "      <td>57.78</td>\n",
       "    </tr>\n",
       "    <tr>\n",
       "      <th>5</th>\n",
       "      <td>KC Sangakkara�(SL)</td>\n",
       "      <td>57.40</td>\n",
       "    </tr>\n",
       "    <tr>\n",
       "      <th>84</th>\n",
       "      <td>JB Hobbs�(ENG)</td>\n",
       "      <td>56.94</td>\n",
       "    </tr>\n",
       "    <tr>\n",
       "      <th>144</th>\n",
       "      <td>CL Walcott�(WI)</td>\n",
       "      <td>56.68</td>\n",
       "    </tr>\n",
       "    <tr>\n",
       "      <th>54</th>\n",
       "      <td>L Hutton�(ENG)</td>\n",
       "      <td>56.67</td>\n",
       "    </tr>\n",
       "    <tr>\n",
       "      <th>2</th>\n",
       "      <td>JH Kallis�(ICC/SA)</td>\n",
       "      <td>55.37</td>\n",
       "    </tr>\n",
       "    <tr>\n",
       "      <th>45</th>\n",
       "      <td>V Kohli�(INDIA)</td>\n",
       "      <td>54.97</td>\n",
       "    </tr>\n",
       "    <tr>\n",
       "      <th>49</th>\n",
       "      <td>GS Chappell�(AUS)</td>\n",
       "      <td>53.86</td>\n",
       "    </tr>\n",
       "    <tr>\n",
       "      <th>198</th>\n",
       "      <td>AD Nourse�(SA)</td>\n",
       "      <td>53.81</td>\n",
       "    </tr>\n",
       "    <tr>\n",
       "      <th>0</th>\n",
       "      <td>SR Tendulkar�(INDIA)</td>\n",
       "      <td>53.78</td>\n",
       "    </tr>\n",
       "    <tr>\n",
       "      <th>6</th>\n",
       "      <td>BC Lara�(ICC/WI)</td>\n",
       "      <td>52.88</td>\n",
       "    </tr>\n",
       "    <tr>\n",
       "      <th>16</th>\n",
       "      <td>Javed Miandad�(PAK)</td>\n",
       "      <td>52.57</td>\n",
       "    </tr>\n",
       "    <tr>\n",
       "      <th>3</th>\n",
       "      <td>R Dravid�(ICC/INDIA)</td>\n",
       "      <td>52.31</td>\n",
       "    </tr>\n",
       "    <tr>\n",
       "      <th>35</th>\n",
       "      <td>Mohammad Yousuf�(PAK)</td>\n",
       "      <td>52.29</td>\n",
       "    </tr>\n",
       "    <tr>\n",
       "      <th>12</th>\n",
       "      <td>Younis Khan�(PAK)</td>\n",
       "      <td>52.05</td>\n",
       "    </tr>\n",
       "  </tbody>\n",
       "</table>\n",
       "</div>"
      ],
      "text/plain": [
       "                    Player    Avg\n",
       "52        DG Bradman�(AUS)  99.94\n",
       "47         SPD Smith�(AUS)  62.84\n",
       "103      H Sutcliffe�(ENG)  60.73\n",
       "56     KF Barrington�(ENG)  58.67\n",
       "110         ED Weekes�(WI)  58.61\n",
       "42        WR Hammond�(ENG)  58.45\n",
       "28          GS Sobers�(WI)  57.78\n",
       "5       KC Sangakkara�(SL)  57.40\n",
       "84          JB Hobbs�(ENG)  56.94\n",
       "144        CL Walcott�(WI)  56.68\n",
       "54          L Hutton�(ENG)  56.67\n",
       "2       JH Kallis�(ICC/SA)  55.37\n",
       "45         V Kohli�(INDIA)  54.97\n",
       "49       GS Chappell�(AUS)  53.86\n",
       "198         AD Nourse�(SA)  53.81\n",
       "0     SR Tendulkar�(INDIA)  53.78\n",
       "6         BC Lara�(ICC/WI)  52.88\n",
       "16     Javed Miandad�(PAK)  52.57\n",
       "3     R Dravid�(ICC/INDIA)  52.31\n",
       "35   Mohammad Yousuf�(PAK)  52.29\n",
       "12       Younis Khan�(PAK)  52.05"
      ]
     },
     "execution_count": 30,
     "metadata": {},
     "output_type": "execute_result"
    }
   ],
   "source": [
    "#Getting list of top 20 averages apart from Bradman\n",
    "#New dataframe containing only player name and average (to manually type into the scatterplot above)\n",
    "x = df1[['Player', 'Avg']]\n",
    "x.sort_values('Avg', ascending=False).head(21)"
   ]
  },
  {
   "cell_type": "code",
   "execution_count": 31,
   "id": "8320ad34",
   "metadata": {},
   "outputs": [
    {
     "data": {
      "text/plain": [
       "30.715271028037368"
      ]
     },
     "execution_count": 31,
     "metadata": {},
     "output_type": "execute_result"
    }
   ],
   "source": [
    "df2['Avg'].mean() # mean of averages of all cricketers"
   ]
  },
  {
   "cell_type": "code",
   "execution_count": 32,
   "id": "01c5d40b",
   "metadata": {},
   "outputs": [
    {
     "data": {
      "text/plain": [
       "31.83"
      ]
     },
     "execution_count": 32,
     "metadata": {},
     "output_type": "execute_result"
    }
   ],
   "source": [
    "df2['Avg'].median() # median of averages of all cricketers"
   ]
  },
  {
   "cell_type": "code",
   "execution_count": 33,
   "id": "08aac7d5",
   "metadata": {},
   "outputs": [
    {
     "name": "stdout",
     "output_type": "stream",
     "text": [
      "<class 'pandas.core.frame.DataFrame'>\n",
      "Int64Index: 269 entries, 0 to 469\n",
      "Data columns (total 2 columns):\n",
      " #   Column  Non-Null Count  Dtype  \n",
      "---  ------  --------------  -----  \n",
      " 0   Avg     269 non-null    float64\n",
      " 1   S No    269 non-null    int64  \n",
      "dtypes: float64(1), int64(1)\n",
      "memory usage: 6.3 KB\n"
     ]
    }
   ],
   "source": [
    "df3 = df2[df2['Avg'] >= 31.83] # only including pure batsman (ie cricketers whose batting average is > median)\n",
    "df3.info()"
   ]
  },
  {
   "cell_type": "code",
   "execution_count": 34,
   "id": "09a36e33",
   "metadata": {},
   "outputs": [
    {
     "data": {
      "text/plain": [
       "41.912750929367995"
      ]
     },
     "execution_count": 34,
     "metadata": {},
     "output_type": "execute_result"
    }
   ],
   "source": [
    "df3['Avg'].mean() # checking mean batting average of pure batsman"
   ]
  },
  {
   "cell_type": "code",
   "execution_count": 35,
   "id": "5db77ea5",
   "metadata": {},
   "outputs": [
    {
     "data": {
      "text/plain": [
       "41.0"
      ]
     },
     "execution_count": 35,
     "metadata": {},
     "output_type": "execute_result"
    }
   ],
   "source": [
    "df3['Avg'].median() # checking median batting average of pure batsman"
   ]
  },
  {
   "cell_type": "code",
   "execution_count": 36,
   "id": "0a683d1d",
   "metadata": {},
   "outputs": [
    {
     "data": {
      "text/plain": [
       "7.509226803091624"
      ]
     },
     "execution_count": 36,
     "metadata": {},
     "output_type": "execute_result"
    }
   ],
   "source": [
    "df3.Avg.std() # checking standard deviation of pure batsman\n"
   ]
  },
  {
   "cell_type": "markdown",
   "id": "c05f3f2e",
   "metadata": {},
   "source": [
    "The Null Hypothesis here can be framed as:</p> \n",
    "\n",
    "H0: Avg = 99.94 with level of significance α = 0.0002 (or 1 in 5000 which Leicester's pre-season win odds)\n",
    "\n",
    "Mean Batting Average, μ = 33.79\n",
    "Standard Deviation, σ = 11.95\n",
    "Observed Value, x = 99.94\n",
    "\n",
    "Hence, Bradman's Z-score => (x - μ) / σ => (99.94 - 33.79) / 11.95 => 5.53\n",
    "\n",
    "A z-table lookup on a level of significance α = 0.0002, gives us a z-critical of 3.54. Since Bradman's z-score of 5.53 is greater than the z-critical value of 3.54, we can reject the null hypothesis, and the data suggests that Bradman's outlying batting average is a statistical occurrence rarer than 1 in 5000\n",
    "\n",
    "As a side note, plugging in a z-score of 5.53 gives us a Z-critical value of 0.999999927972299. In other words, Bradman's outlying average has an occurrence probability of 1 in over 50 million! Re-doing the numbers to only include a certain minimum number of matches played, or by applying more stringent criteria to defining a 'pure batsman' results in even greater odds."
   ]
  },
  {
   "cell_type": "code",
   "execution_count": null,
   "id": "187b00f1",
   "metadata": {},
   "outputs": [],
   "source": []
  }
 ],
 "metadata": {
  "kernelspec": {
   "display_name": "Python 3",
   "language": "python",
   "name": "python3"
  },
  "language_info": {
   "codemirror_mode": {
    "name": "ipython",
    "version": 3
   },
   "file_extension": ".py",
   "mimetype": "text/x-python",
   "name": "python",
   "nbconvert_exporter": "python",
   "pygments_lexer": "ipython3",
   "version": "3.8.8"
  }
 },
 "nbformat": 4,
 "nbformat_minor": 5
}
